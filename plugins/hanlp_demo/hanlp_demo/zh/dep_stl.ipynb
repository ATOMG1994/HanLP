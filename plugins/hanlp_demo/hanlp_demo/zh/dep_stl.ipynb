{
  "cells": [
    {
      "cell_type": "markdown",
      "metadata": {
        "id": "WfGpInivS0fG"
      },
      "source": [
        "<h2 align=\"center\">点击下列图标在线运行HanLP</h2>\n",
        "<div align=\"center\">\n",
        "\t<a href=\"https://colab.research.google.com/github/hankcs/HanLP/blob/doc-zh/plugins/hanlp_demo/hanlp_demo/zh/dep_stl.ipynb\" target=\"_blank\"><img src=\"https://colab.research.google.com/assets/colab-badge.svg\" alt=\"Open In Colab\"/></a>\n",
        "\t<a href=\"https://mybinder.org/v2/gh/hankcs/HanLP/doc-zh?filepath=plugins%2Fhanlp_demo%2Fhanlp_demo%2Fzh%2Fdep_stl.ipynb\" target=\"_blank\"><img src=\"https://mybinder.org/badge_logo.svg\" alt=\"Open In Binder\"/></a>\n",
        "</div>\n",
        "\n",
        "## 安装"
      ]
    },
    {
      "cell_type": "markdown",
      "metadata": {
        "id": "IYwV-UkNNzFp"
      },
      "source": [
        "无论是Windows、Linux还是macOS，HanLP的安装只需一句话搞定："
      ]
    },
    {
      "cell_type": "code",
      "execution_count": null,
      "metadata": {
        "id": "1Uf_u7ddMhUt"
      },
      "outputs": [],
      "source": [
        "!pip install hanlp[full] -U"
      ]
    },
    {
      "cell_type": "markdown",
      "metadata": {
        "id": "pp-1KqEOOJ4t"
      },
      "source": [
        "## 加载模型\n",
        "HanLP的工作流程是先加载模型，模型的标示符存储在`hanlp.pretrained`这个包中，按照NLP任务归类。"
      ]
    },
    {
      "cell_type": "code",
      "execution_count": 2,
      "metadata": {
        "colab": {
          "base_uri": "https://localhost:8080/"
        },
        "id": "4M7ka0K5OMWU",
        "outputId": "69cdad22-d94d-41fb-9591-1c29515a3da9"
      },
      "outputs": [
        {
          "output_type": "execute_result",
          "data": {
            "text/plain": [
              "{'CTB5_BIAFFINE_DEP_ZH': 'https://file.hankcs.com/hanlp/dep/biaffine_ctb5_20191229_025833.zip',\n",
              " 'CTB7_BIAFFINE_DEP_ZH': 'https://file.hankcs.com/hanlp/dep/biaffine_ctb7_20200109_022431.zip',\n",
              " 'PTB_BIAFFINE_DEP_EN': 'https://file.hankcs.com/hanlp/dep/ptb_dep_biaffine_20200101_174624.zip'}"
            ]
          },
          "metadata": {},
          "execution_count": 2
        }
      ],
      "source": [
        "import hanlp\n",
        "hanlp.pretrained.dep.ALL # 语种见名称最后一个字段或相应语料库"
      ]
    },
    {
      "cell_type": "markdown",
      "metadata": {
        "id": "BMW528wGNulM"
      },
      "source": [
        "调用`hanlp.load`进行加载，模型会自动下载到本地缓存。自然语言处理分为许多任务，分词只是最初级的一个。与其每个任务单独创建一个模型，不如利用HanLP的联合模型一次性完成多个任务："
      ]
    },
    {
      "cell_type": "code",
      "execution_count": null,
      "metadata": {
        "id": "0tmKBu7sNAXX"
      },
      "outputs": [],
      "source": [
        "dep = hanlp.load(hanlp.pretrained.dep.CTB7_BIAFFINE_DEP_ZH)"
      ]
    },
    {
      "cell_type": "markdown",
      "metadata": {
        "id": "elA_UyssOut_"
      },
      "source": [
        "## 依存句法分析\n",
        "依存句法分析任务的输入为已分词已词性标注的一个或多个句子："
      ]
    },
    {
      "cell_type": "code",
      "execution_count": 4,
      "metadata": {
        "id": "BqEmDMGGOtk3"
      },
      "outputs": [],
      "source": [
        "tree = dep([('蜡烛', 'NN'), ('两', 'CD'), ('头', 'NN'), ('烧', 'VV')])"
      ]
    },
    {
      "cell_type": "markdown",
      "metadata": {
        "id": "jj1Jk-2sPHYx"
      },
      "source": [
        "返回对象为CoNLLSentence类型："
      ]
    },
    {
      "cell_type": "code",
      "execution_count": 5,
      "metadata": {
        "id": "U_PGm06m6K20",
        "outputId": "a25c6452-5032-42b3-d501-99158380c487",
        "colab": {
          "base_uri": "https://localhost:8080/"
        }
      },
      "outputs": [
        {
          "output_type": "execute_result",
          "data": {
            "text/plain": [
              "[{'deprel': 'nsubj',\n",
              "  'deps': None,\n",
              "  'feats': None,\n",
              "  'form': '蜡烛',\n",
              "  'head': 4,\n",
              "  'id': 1,\n",
              "  'lemma': None,\n",
              "  'misc': None,\n",
              "  'upos': 'NN',\n",
              "  'xpos': None},\n",
              " {'deprel': 'nummod',\n",
              "  'deps': None,\n",
              "  'feats': None,\n",
              "  'form': '两',\n",
              "  'head': 3,\n",
              "  'id': 2,\n",
              "  'lemma': None,\n",
              "  'misc': None,\n",
              "  'upos': 'CD',\n",
              "  'xpos': None},\n",
              " {'deprel': 'dep',\n",
              "  'deps': None,\n",
              "  'feats': None,\n",
              "  'form': '头',\n",
              "  'head': 4,\n",
              "  'id': 3,\n",
              "  'lemma': None,\n",
              "  'misc': None,\n",
              "  'upos': 'NN',\n",
              "  'xpos': None},\n",
              " {'deprel': 'root',\n",
              "  'deps': None,\n",
              "  'feats': None,\n",
              "  'form': '烧',\n",
              "  'head': 0,\n",
              "  'id': 4,\n",
              "  'lemma': None,\n",
              "  'misc': None,\n",
              "  'upos': 'VV',\n",
              "  'xpos': None}]"
            ]
          },
          "metadata": {},
          "execution_count": 5
        }
      ],
      "source": [
        "tree"
      ]
    },
    {
      "cell_type": "markdown",
      "metadata": {
        "id": "Gn_RQa_Z6K20"
      },
      "source": [
        "打印时为CoNLL格式："
      ]
    },
    {
      "cell_type": "code",
      "execution_count": 6,
      "metadata": {
        "id": "26P1LGzv6K20",
        "outputId": "c78ffdb0-3cd7-492d-f55e-0d50120faffb",
        "colab": {
          "base_uri": "https://localhost:8080/"
        }
      },
      "outputs": [
        {
          "output_type": "stream",
          "name": "stdout",
          "text": [
            "1\t蜡烛\t_\tNN\t_\t_\t4\tnsubj\t_\t_\n",
            "2\t两\t_\tCD\t_\t_\t3\tnummod\t_\t_\n",
            "3\t头\t_\tNN\t_\t_\t4\tdep\t_\t_\n",
            "4\t烧\t_\tVV\t_\t_\t0\troot\t_\t_\n"
          ]
        }
      ],
      "source": [
        "print(tree)"
      ]
    }
  ],
  "metadata": {
    "colab": {
      "collapsed_sections": [],
      "name": "dep_stl.ipynb",
      "provenance": []
    },
    "kernelspec": {
      "display_name": "Python 3 (ipykernel)",
      "language": "python",
      "name": "python3"
    },
    "language_info": {
      "codemirror_mode": {
        "name": "ipython",
        "version": 3
      },
      "file_extension": ".py",
      "mimetype": "text/x-python",
      "name": "python",
      "nbconvert_exporter": "python",
      "pygments_lexer": "ipython3",
      "version": "3.8.12"
    }
  },
  "nbformat": 4,
  "nbformat_minor": 0
}