{
  "nbformat": 4,
  "nbformat_minor": 0,
  "metadata": {
    "colab": {
      "name": "ner_stl.ipynb",
      "provenance": [],
      "collapsed_sections": []
    },
    "kernelspec": {
      "name": "python3",
      "display_name": "Python 3"
    },
    "language_info": {
      "name": "python"
    },
    "accelerator": "GPU"
  },
  "cells": [
    {
      "cell_type": "markdown",
      "source": [
        "<h2 align=\"center\">点击下列图标在线运行HanLP</h2>\n",
        "<div align=\"center\">\n",
        "\t<a href=\"https://colab.research.google.com/github/hankcs/HanLP/blob/doc-zh/plugins/hanlp_demo/hanlp_demo/zh/ner_mtl.ipynb\" target=\"_blank\"><img src=\"https://colab.research.google.com/assets/colab-badge.svg\" alt=\"Open In Colab\"/></a>\n",
        "\t<a href=\"https://mybinder.org/v2/gh/hankcs/HanLP/doc-zh?filepath=plugins%2Fhanlp_demo%2Fhanlp_demo%2Fzh%2Fner_mtl.ipynb\" target=\"_blank\"><img src=\"https://mybinder.org/badge_logo.svg\" alt=\"Open In Binder\"/></a>\n",
        "</div>"
      ],
      "metadata": {
        "id": "WfGpInivS0fG"
      }
    },
    {
      "cell_type": "markdown",
      "source": [
        "## 安装"
      ],
      "metadata": {
        "id": "IYwV-UkNNzFp"
      }
    },
    {
      "cell_type": "markdown",
      "metadata": {
        "id": "1Uf_u7ddMhUt",
        "pycharm": {
          "name": "#%% md\n"
        }
      },
      "source": [
        "无论是Windows、Linux还是macOS，HanLP的安装只需一句话搞定："
      ]
    },
    {
      "cell_type": "code",
      "source": [
        "!pip install hanlp -U"
      ],
      "metadata": {
        "id": "pp-1KqEOOJ4t",
        "pycharm": {
          "name": "#%%\n"
        }
      },
      "execution_count": null,
      "outputs": []
    },
    {
      "cell_type": "markdown",
      "source": [
        "## 加载模型\n",
        "HanLP的工作流程是先加载模型，模型的标示符存储在`hanlp.pretrained`这个包中，按照NLP任务归类。"
      ],
      "metadata": {
        "id": "0tmKBu7sNAXX",
        "pycharm": {
          "name": "#%% md\n"
        }
      }
    },
    {
      "cell_type": "code",
      "source": [
        "import hanlp\n",
        "hanlp.pretrained.ner.ALL # 语种见名称最后一个字段或相应语料库"
      ],
      "metadata": {
        "id": "EmZDmLn9aGxG",
        "pycharm": {
          "name": "#%%\n"
        },
        "colab": {
          "base_uri": "https://localhost:8080/"
        },
        "outputId": "0d55f7a1-3a4c-4170-e60f-da7473208e3f"
      },
      "execution_count": 2,
      "outputs": [
        {
          "output_type": "execute_result",
          "data": {
            "text/plain": [
              "{'CONLL03_NER_BERT_BASE_CASED_EN': 'https://file.hankcs.com/hanlp/ner/ner_conll03_bert_base_cased_en_20211227_121443.zip',\n",
              " 'MSRA_NER_ALBERT_BASE_ZH': 'https://file.hankcs.com/hanlp/ner/msra_ner_albert_base_20211228_173323.zip',\n",
              " 'MSRA_NER_BERT_BASE_ZH': 'https://file.hankcs.com/hanlp/ner/ner_bert_base_msra_20211227_114712.zip',\n",
              " 'MSRA_NER_ELECTRA_SMALL_ZH': 'https://file.hankcs.com/hanlp/ner/msra_ner_electra_small_20210807_154832.zip'}"
            ]
          },
          "metadata": {},
          "execution_count": 2
        }
      ]
    },
    {
      "cell_type": "markdown",
      "source": [
        "调用`hanlp.load`进行加载，模型会自动下载到本地缓存。"
      ],
      "metadata": {
        "collapsed": false,
        "id": "VDT-qmLyvDST"
      }
    },
    {
      "cell_type": "code",
      "execution_count": null,
      "outputs": [],
      "source": [
        "HanLP = hanlp.load(hanlp.pretrained.ner.MSRA_NER_ELECTRA_SMALL_ZH)"
      ],
      "metadata": {
        "pycharm": {
          "name": "#%%\n"
        },
        "id": "Tzu5Qi-xvDST"
      }
    },
    {
      "cell_type": "markdown",
      "source": [
        "## 命名实体识别"
      ],
      "metadata": {
        "id": "elA_UyssOut_"
      }
    },
    {
      "cell_type": "markdown",
      "source": [
        "命名实体识别任务的输入为已分词的句子："
      ],
      "metadata": {
        "id": "wxctCigrTKu-"
      }
    },
    {
      "cell_type": "code",
      "source": [
        "print(HanLP([[\"2021年\", \"HanLPv2.1\", \"为\", \"生产\", \"环境\", \"带来\", \"次\", \"世代\", \"最\", \"先进\", \"的\", \"多\", \"语种\", \"NLP\", \"技术\", \"。\"], [\"阿婆主\", \"来到\", \"北京\", \"立方庭\", \"参观\", \"自然\", \"语义\", \"科技\", \"公司\", \"。\"]], tasks='ner*'))"
      ],
      "metadata": {
        "colab": {
          "base_uri": "https://localhost:8080/"
        },
        "id": "Zo08uquCTFSk",
        "outputId": "864da076-7113-4685-e27a-1856e69bdd2a"
      },
      "execution_count": 4,
      "outputs": [
        {
          "output_type": "stream",
          "name": "stdout",
          "text": [
            "[[('2021年', 'DATE', 0, 1)], [('北京', 'LOCATION', 2, 3), ('立方庭', 'LOCATION', 3, 4), ('自然语义科技公司', 'ORGANIZATION', 5, 9)]]\n"
          ]
        }
      ]
    }
  ]
}