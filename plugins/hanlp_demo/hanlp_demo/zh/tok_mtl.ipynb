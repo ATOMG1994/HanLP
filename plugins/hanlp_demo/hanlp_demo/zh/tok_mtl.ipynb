{
 "nbformat": 4,
 "nbformat_minor": 0,
 "metadata": {
  "colab": {
   "name": "tok_mtl.ipynb",
   "provenance": [],
   "collapsed_sections": [],
   "authorship_tag": "ABX9TyNRpO7rdchCK1UmB0nQmPrG",
   "include_colab_link": true
  },
  "kernelspec": {
   "name": "python3",
   "display_name": "Python 3"
  },
  "language_info": {
   "name": "python"
  },
  "accelerator": "GPU"
 },
 "cells": [
  {
   "cell_type": "markdown",
   "metadata": {
    "id": "view-in-github",
    "colab_type": "text"
   },
   "source": [
    "<h2 align=\"center\">点击下列图标在线运行HanLP</h2>\n",
    "<div align=\"center\">\n",
    "\t<a href=\"https://colab.research.google.com/github/hankcs/HanLP/blob/doc-zh/plugins/hanlp_demo/hanlp_demo/zh/tok_mtl.ipynb\" target=\"_blank\"><img src=\"https://colab.research.google.com/assets/colab-badge.svg\" alt=\"Open In Colab\"/></a>\n",
    "\t<a href=\"https://mybinder.org/v2/gh/hankcs/HanLP/doc-zh?filepath=plugins%2Fhanlp_demo%2Fhanlp_demo%2Fzh%2Ftok_mtl.ipynb\" target=\"_blank\"><img src=\"https://mybinder.org/badge_logo.svg\" alt=\"Open In Binder\"/></a>\n",
    "</div>"
   ]
  },
  {
   "cell_type": "markdown",
   "source": [
    "## 安装"
   ],
   "metadata": {
    "id": "WfGpInivS0fG"
   }
  },
  {
   "cell_type": "markdown",
   "source": [
    "无论是Windows、Linux还是macOS，HanLP的安装只需一句话搞定："
   ],
   "metadata": {
    "id": "IYwV-UkNNzFp"
   }
  },
  {
   "cell_type": "code",
   "execution_count": null,
   "metadata": {
    "id": "1Uf_u7ddMhUt"
   },
   "outputs": [],
   "source": [
    "!pip install hanlp -U"
   ]
  },
  {
   "cell_type": "markdown",
   "source": [
    "## 加载模型\n",
    "HanLP的工作流程是先加载模型，模型的标示符存储在`hanlp.pretrained`这个包中，按照NLP任务归类。"
   ],
   "metadata": {
    "id": "pp-1KqEOOJ4t"
   }
  },
  {
   "cell_type": "code",
   "source": [
    "import hanlp\n",
    "hanlp.pretrained.mtl.ALL # MTL多任务，具体任务见模型名称，语种见名称最后一个字段或相应语料库"
   ],
   "metadata": {
    "colab": {
     "base_uri": "https://localhost:8080/"
    },
    "id": "4M7ka0K5OMWU",
    "outputId": "9a1dc26a-786a-4dce-c013-7ae5017a8805"
   },
   "execution_count": 2,
   "outputs": [
    {
     "output_type": "execute_result",
     "data": {
      "text/plain": [
       "{'CLOSE_TOK_POS_NER_SRL_DEP_SDP_CON_ELECTRA_BASE_ZH': 'https://file.hankcs.com/hanlp/mtl/close_tok_pos_ner_srl_dep_sdp_con_electra_base_20210111_124519.zip',\n",
       " 'CLOSE_TOK_POS_NER_SRL_DEP_SDP_CON_ELECTRA_SMALL_ZH': 'https://file.hankcs.com/hanlp/mtl/close_tok_pos_ner_srl_dep_sdp_con_electra_small_20210111_124159.zip',\n",
       " 'CLOSE_TOK_POS_NER_SRL_DEP_SDP_CON_ERNIE_GRAM_ZH': 'https://file.hankcs.com/hanlp/mtl/close_tok_pos_ner_srl_dep_sdp_con_ernie_gram_base_aug_20210904_145403.zip',\n",
       " 'NPCMJ_UD_KYOTO_TOK_POS_CON_BERT_BASE_CHAR_JA': 'https://file.hankcs.com/hanlp/mtl/npcmj_ud_kyoto_tok_pos_ner_dep_con_srl_bert_base_char_ja_20210914_133742.zip',\n",
       " 'OPEN_TOK_POS_NER_SRL_DEP_SDP_CON_ELECTRA_BASE_ZH': 'https://file.hankcs.com/hanlp/mtl/open_tok_pos_ner_srl_dep_sdp_con_electra_base_20201223_201906.zip',\n",
       " 'OPEN_TOK_POS_NER_SRL_DEP_SDP_CON_ELECTRA_SMALL_ZH': 'https://file.hankcs.com/hanlp/mtl/open_tok_pos_ner_srl_dep_sdp_con_electra_small_20201223_035557.zip',\n",
       " 'UD_ONTONOTES_TOK_POS_LEM_FEA_NER_SRL_DEP_SDP_CON_MT5_SMALL': 'https://file.hankcs.com/hanlp/mtl/ud_ontonotes_tok_pos_lem_fea_ner_srl_dep_sdp_con_mt5_small_20210228_123458.zip',\n",
       " 'UD_ONTONOTES_TOK_POS_LEM_FEA_NER_SRL_DEP_SDP_CON_XLMR_BASE': 'https://file.hankcs.com/hanlp/mtl/ud_ontonotes_tok_pos_lem_fea_ner_srl_dep_sdp_con_xlm_base_20210602_211620.zip'}"
      ]
     },
     "metadata": {},
     "execution_count": 2
    }
   ]
  },
  {
   "cell_type": "markdown",
   "source": [
    "调用`hanlp.load`进行加载，模型会自动下载到本地缓存。自然语言处理分为许多任务，分词只是最初级的一个。与其每个任务单独创建一个模型，不如利用HanLP的联合模型一次性完成多个任务："
   ],
   "metadata": {
    "id": "BMW528wGNulM"
   }
  },
  {
   "cell_type": "code",
   "source": [
    "HanLP = hanlp.load(hanlp.pretrained.mtl.CLOSE_TOK_POS_NER_SRL_DEP_SDP_CON_ELECTRA_BASE_ZH)"
   ],
   "metadata": {
    "colab": {
     "base_uri": "https://localhost:8080/"
    },
    "id": "0tmKBu7sNAXX",
    "outputId": "e0187328-c6d2-47fe-cf84-c5b44703940b"
   },
   "execution_count": 3,
   "outputs": [
    {
     "output_type": "stream",
     "name": "stderr",
     "text": [
      ""
     ]
    }
   ]
  },
  {
   "cell_type": "markdown",
   "source": [
    "## 分词\n",
    "任务越少，速度越快。如指定仅执行分词，默认细粒度："
   ],
   "metadata": {
    "id": "elA_UyssOut_"
   }
  },
  {
   "cell_type": "code",
   "source": [
    "HanLP('阿婆主来到北京立方庭参观自然语义科技公司。', tasks='tok').pretty_print()"
   ],
   "metadata": {
    "colab": {
     "base_uri": "https://localhost:8080/",
     "height": 35
    },
    "id": "BqEmDMGGOtk3",
    "outputId": "387cbf30-4d70-44b1-d64b-b7a5c22ae31e"
   },
   "execution_count": 4,
   "outputs": [
    {
     "output_type": "display_data",
     "data": {
      "text/html": [
       "<div style=\"display: table; line-height: 128%;\"><pre style=\"display: table-cell; font-family: SFMono-Regular,Menlo,Monaco,Consolas,Liberation Mono,Courier New,monospace; white-space: nowrap;\">阿婆主&nbsp;来到&nbsp;北京&nbsp;立方庭&nbsp;参观&nbsp;自然&nbsp;语义&nbsp;科技&nbsp;公司&nbsp;。</pre></div>"
      ],
      "text/plain": [
       "<IPython.core.display.HTML object>"
      ]
     },
     "metadata": {}
    }
   ]
  },
  {
   "cell_type": "markdown",
   "source": [
    "执行粗颗粒度分词："
   ],
   "metadata": {
    "id": "jj1Jk-2sPHYx"
   }
  },
  {
   "cell_type": "code",
   "source": [
    "HanLP('阿婆主来到北京立方庭参观自然语义科技公司。', tasks='tok/coarse').pretty_print()"
   ],
   "metadata": {
    "colab": {
     "base_uri": "https://localhost:8080/",
     "height": 35
    },
    "id": "1goEC7znPNkI",
    "outputId": "ddf15a17-2f5d-4bc3-d145-908fb6176552"
   },
   "execution_count": 5,
   "outputs": [
    {
     "output_type": "display_data",
     "data": {
      "text/html": [
       "<div style=\"display: table; line-height: 128%;\"><pre style=\"display: table-cell; font-family: SFMono-Regular,Menlo,Monaco,Consolas,Liberation Mono,Courier New,monospace; white-space: nowrap;\">阿婆主&nbsp;来到&nbsp;北京立方庭&nbsp;参观&nbsp;自然语义科技公司&nbsp;。</pre></div>"
      ],
      "text/plain": [
       "<IPython.core.display.HTML object>"
      ]
     },
     "metadata": {}
    }
   ]
  },
  {
   "cell_type": "markdown",
   "source": [
    "同时执行细粒度和粗粒度分词："
   ],
   "metadata": {
    "id": "wxctCigrTKu-"
   }
  },
  {
   "cell_type": "code",
   "source": [
    "HanLP('阿婆主来到北京立方庭参观自然语义科技公司。', tasks='tok*')"
   ],
   "metadata": {
    "colab": {
     "base_uri": "https://localhost:8080/"
    },
    "id": "Zo08uquCTFSk",
    "outputId": "bf24a01a-a09b-4b78-fdec-2bb705b4becb"
   },
   "execution_count": 6,
   "outputs": [
    {
     "output_type": "execute_result",
     "data": {
      "text/plain": [
       "{'tok/coarse': ['阿婆主', '来到', '北京立方庭', '参观', '自然语义科技公司', '。'],\n",
       " 'tok/fine': ['阿婆主', '来到', '北京', '立方庭', '参观', '自然', '语义', '科技', '公司', '。']}"
      ]
     },
     "metadata": {},
     "execution_count": 6
    }
   ]
  },
  {
   "cell_type": "markdown",
   "source": [
    "## 自定义词典\n",
    "自定义词典为分词任务的成员变量，要操作自定义词典，先获取分词任务，以细分标准为例："
   ],
   "metadata": {
    "id": "suUL042zPpLj"
   }
  },
  {
   "cell_type": "code",
   "source": [
    "tok = HanLP['tok/fine']\n",
    "tok"
   ],
   "metadata": {
    "colab": {
     "base_uri": "https://localhost:8080/"
    },
    "id": "AzYShIssP6kq",
    "outputId": "7f07897c-8a97-4193-855d-d9e296581d0c"
   },
   "execution_count": 7,
   "outputs": [
    {
     "output_type": "execute_result",
     "data": {
      "text/plain": [
       "<hanlp.components.mtl.tasks.tok.tag_tok.TaggingTokenization at 0x7f8074e97dd0>"
      ]
     },
     "metadata": {},
     "execution_count": 7
    }
   ]
  },
  {
   "cell_type": "markdown",
   "source": [
    "不挂词典："
   ],
   "metadata": {
    "id": "1q4MUpgVQNlu"
   }
  },
  {
   "cell_type": "code",
   "source": [
    "tok.dict_force = tok.dict_combine = None\n",
    "HanLP(\"商品和服务项目\")[\"tok/fine\"]"
   ],
   "metadata": {
    "colab": {
     "base_uri": "https://localhost:8080/"
    },
    "id": "2zZkH9tRQOoi",
    "outputId": "c231c35b-1a5f-4b54-e5c3-8680d2cc1515"
   },
   "execution_count": 8,
   "outputs": [
    {
     "output_type": "execute_result",
     "data": {
      "text/plain": [
       "['商品', '和', '服务', '项目']"
      ]
     },
     "metadata": {},
     "execution_count": 8
    }
   ]
  },
  {
   "cell_type": "markdown",
   "source": [
    "强制模式（慎用，详见[《自然语言处理入门》](http://nlp.hankcs.com/book.php)第二章）："
   ],
   "metadata": {
    "id": "F-9gAeIVQUFG"
   }
  },
  {
   "cell_type": "code",
   "source": [
    "tok.dict_force = {'和服', '服务项目'}\n",
    "HanLP(\"商品和服务项目\")[\"tok/fine\"]"
   ],
   "metadata": {
    "colab": {
     "base_uri": "https://localhost:8080/"
    },
    "id": "F8M8cyBrQduw",
    "outputId": "c3bf7ec5-b1d4-4207-a979-2c85754c7cd7"
   },
   "execution_count": 9,
   "outputs": [
    {
     "output_type": "execute_result",
     "data": {
      "text/plain": [
       "['商品', '和服', '务', '项目']"
      ]
     },
     "metadata": {},
     "execution_count": 9
    }
   ]
  },
  {
   "cell_type": "markdown",
   "source": [
    "强制校正:"
   ],
   "metadata": {
    "id": "DDqQxqQaTayv"
   }
  },
  {
   "cell_type": "code",
   "source": [
    "tok.dict_force = {'和服务': ['和', '服务']}\n",
    "HanLP(\"正向匹配商品和服务、任何和服务必按上述切分\")[\"tok/fine\"]"
   ],
   "metadata": {
    "colab": {
     "base_uri": "https://localhost:8080/"
    },
    "id": "bjnEqDaATdVr",
    "outputId": "3a282acc-5716-45e4-e1e2-96eefb8ee342"
   },
   "execution_count": 10,
   "outputs": [
    {
     "output_type": "execute_result",
     "data": {
      "text/plain": [
       "['正向', '匹配', '商品', '和', '服务', '、', '任何', '和', '服务', '必', '按', '上述', '切分']"
      ]
     },
     "metadata": {},
     "execution_count": 10
    }
   ]
  },
  {
   "cell_type": "markdown",
   "source": [
    "合并模式:"
   ],
   "metadata": {
    "id": "ldKAnVoSTgxb"
   }
  },
  {
   "cell_type": "code",
   "source": [
    "tok.dict_force = None\n",
    "tok.dict_combine = {'和服', '服务项目'}\n",
    "HanLP(\"商品和服务项目\")[\"tok/fine\"]"
   ],
   "metadata": {
    "colab": {
     "base_uri": "https://localhost:8080/"
    },
    "id": "bwIu0f6wTgbF",
    "outputId": "b941b079-5202-420a-e7f3-8f1617a2545c"
   },
   "execution_count": 11,
   "outputs": [
    {
     "output_type": "execute_result",
     "data": {
      "text/plain": [
       "['商品', '和', '服务项目']"
      ]
     },
     "metadata": {},
     "execution_count": 11
    }
   ]
  },
  {
   "cell_type": "markdown",
   "source": [
    "需要算法基础才能理解，初学者可参考[《自然语言处理入门》](http://nlp.hankcs.com/book.php)。"
   ],
   "metadata": {
    "id": "9aRzEeRvTlRr"
   }
  }
 ]
}