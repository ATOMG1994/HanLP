{
  "cells": [
    {
      "cell_type": "markdown",
      "metadata": {
        "id": "WfGpInivS0fG"
      },
      "source": [
        "<h2 align=\"center\">点击下列图标在线运行HanLP</h2>\n",
        "<div align=\"center\">\n",
        "\t<a href=\"https://colab.research.google.com/github/hankcs/HanLP/blob/doc-zh/plugins/hanlp_demo/hanlp_demo/zh/sdp_stl.ipynb\" target=\"_blank\"><img src=\"https://colab.research.google.com/assets/colab-badge.svg\" alt=\"Open In Colab\"/></a>\n",
        "\t<a href=\"https://mybinder.org/v2/gh/hankcs/HanLP/doc-zh?filepath=plugins%2Fhanlp_demo%2Fhanlp_demo%2Fzh%2Fsdp_stl.ipynb\" target=\"_blank\"><img src=\"https://mybinder.org/badge_logo.svg\" alt=\"Open In Binder\"/></a>\n",
        "</div>\n",
        "\n",
        "## 安装"
      ]
    },
    {
      "cell_type": "markdown",
      "metadata": {
        "id": "nf9TgeCTC0OT"
      },
      "source": [
        "无论是Windows、Linux还是macOS，HanLP的安装只需一句话搞定："
      ]
    },
    {
      "cell_type": "code",
      "execution_count": null,
      "metadata": {
        "pycharm": {
          "name": "#%%\n"
        },
        "id": "jaW4eu6kC0OU"
      },
      "outputs": [],
      "source": [
        "!pip install hanlp[full] -U"
      ]
    },
    {
      "cell_type": "markdown",
      "metadata": {
        "id": "_xI_bLAaC0OU"
      },
      "source": [
        "## 加载模型\n",
        "HanLP的工作流程是先加载模型，模型的标示符存储在`hanlp.pretrained`这个包中，按照NLP任务归类。"
      ]
    },
    {
      "cell_type": "code",
      "execution_count": 2,
      "metadata": {
        "id": "IYwV-UkNNzFp",
        "pycharm": {
          "name": "#%%\n"
        },
        "outputId": "54065443-9b0a-444c-f6c0-c701bc86400b",
        "colab": {
          "base_uri": "https://localhost:8080/"
        }
      },
      "outputs": [
        {
          "output_type": "execute_result",
          "data": {
            "text/plain": [
              "{'SEMEVAL15_DM_BIAFFINE_EN': 'https://file.hankcs.com/hanlp/sdp/semeval15_biaffine_dm_20200106_122808.zip',\n",
              " 'SEMEVAL15_PAS_BIAFFINE_EN': 'https://file.hankcs.com/hanlp/sdp/semeval15_biaffine_pas_20200103_152405.zip',\n",
              " 'SEMEVAL15_PSD_BIAFFINE_EN': 'https://file.hankcs.com/hanlp/sdp/semeval15_biaffine_psd_20200106_123009.zip',\n",
              " 'SEMEVAL16_NEWS_BIAFFINE_ZH': 'https://file.hankcs.com/hanlp/sdp/semeval16-news-biaffine_20191231_235407.zip',\n",
              " 'SEMEVAL16_TEXT_BIAFFINE_ZH': 'https://file.hankcs.com/hanlp/sdp/semeval16-text-biaffine_20200101_002257.zip'}"
            ]
          },
          "metadata": {},
          "execution_count": 2
        }
      ],
      "source": [
        "import hanlp\n",
        "hanlp.pretrained.sdp.ALL # 语种见名称最后一个字段或相应语料库"
      ]
    },
    {
      "cell_type": "markdown",
      "metadata": {
        "id": "1Uf_u7ddMhUt",
        "pycharm": {
          "name": "#%% md\n"
        }
      },
      "source": [
        "调用`hanlp.load`进行加载，模型会自动下载到本地缓存。"
      ]
    },
    {
      "cell_type": "code",
      "execution_count": null,
      "metadata": {
        "id": "pp-1KqEOOJ4t",
        "pycharm": {
          "name": "#%%\n"
        }
      },
      "outputs": [],
      "source": [
        "sdp = hanlp.load('SEMEVAL16_NEWS_BIAFFINE_ZH')"
      ]
    },
    {
      "cell_type": "markdown",
      "metadata": {
        "id": "elA_UyssOut_"
      },
      "source": [
        "## 语义依存分析\n",
        "语义依存分析的输入为已分词已词性标注的一个或多个句子："
      ]
    },
    {
      "cell_type": "code",
      "execution_count": 4,
      "metadata": {
        "id": "BqEmDMGGOtk3"
      },
      "outputs": [],
      "source": [
        "tree = sdp([('蜡烛', 'NN'), ('两', 'CD'), ('头', 'NN'), ('烧', 'VV')])"
      ]
    },
    {
      "cell_type": "markdown",
      "metadata": {
        "id": "SwaPn1hjC0OW"
      },
      "source": [
        "返回对象为CoNLLSentence类型："
      ]
    },
    {
      "cell_type": "code",
      "execution_count": 5,
      "metadata": {
        "id": "egpWwHKxC0OX",
        "outputId": "f7c77687-dd75-4fa2-dbd2-be6bda8a3fff",
        "colab": {
          "base_uri": "https://localhost:8080/"
        }
      },
      "outputs": [
        {
          "output_type": "execute_result",
          "data": {
            "text/plain": [
              "[{'cpos': 'NN',\n",
              "  'deprel': ['Poss', 'Pat'],\n",
              "  'feats': None,\n",
              "  'form': '蜡烛',\n",
              "  'head': [3, 4],\n",
              "  'id': 1,\n",
              "  'lemma': None,\n",
              "  'pdeprel': None,\n",
              "  'phead': None,\n",
              "  'pos': None},\n",
              " {'cpos': 'CD',\n",
              "  'deprel': ['Quan'],\n",
              "  'feats': None,\n",
              "  'form': '两',\n",
              "  'head': [3],\n",
              "  'id': 2,\n",
              "  'lemma': None,\n",
              "  'pdeprel': None,\n",
              "  'phead': None,\n",
              "  'pos': None},\n",
              " {'cpos': 'NN',\n",
              "  'deprel': ['Loc'],\n",
              "  'feats': None,\n",
              "  'form': '头',\n",
              "  'head': [4],\n",
              "  'id': 3,\n",
              "  'lemma': None,\n",
              "  'pdeprel': None,\n",
              "  'phead': None,\n",
              "  'pos': None},\n",
              " {'cpos': 'VV',\n",
              "  'deprel': ['Root'],\n",
              "  'feats': None,\n",
              "  'form': '烧',\n",
              "  'head': [0],\n",
              "  'id': 4,\n",
              "  'lemma': None,\n",
              "  'pdeprel': None,\n",
              "  'phead': None,\n",
              "  'pos': None}]"
            ]
          },
          "metadata": {},
          "execution_count": 5
        }
      ],
      "source": [
        "tree"
      ]
    },
    {
      "cell_type": "markdown",
      "metadata": {
        "id": "kq_j5TLFC0OX"
      },
      "source": [
        "转换为CoNLL格式："
      ]
    },
    {
      "cell_type": "code",
      "execution_count": 6,
      "metadata": {
        "id": "isJhzYyIC0OX",
        "outputId": "683c8489-dffc-426e-f95b-e91dfb373260",
        "colab": {
          "base_uri": "https://localhost:8080/"
        }
      },
      "outputs": [
        {
          "output_type": "stream",
          "name": "stdout",
          "text": [
            "1\t蜡烛\t_\tNN\t_\t_\t3\tPoss\t_\t_\n",
            "1\t蜡烛\t_\tNN\t_\t_\t4\tPat\t_\t_\n",
            "2\t两\t_\tCD\t_\t_\t3\tQuan\t_\t_\n",
            "3\t头\t_\tNN\t_\t_\t4\tLoc\t_\t_\n",
            "4\t烧\t_\tVV\t_\t_\t0\tRoot\t_\t_\n"
          ]
        }
      ],
      "source": [
        "print(tree)"
      ]
    },
    {
      "cell_type": "code",
      "execution_count": 6,
      "metadata": {
        "id": "S7M56VPQC0OX"
      },
      "outputs": [],
      "source": [
        ""
      ]
    }
  ],
  "metadata": {
    "colab": {
      "collapsed_sections": [],
      "name": "sdp_stl.ipynb",
      "provenance": []
    },
    "kernelspec": {
      "display_name": "Python 3 (ipykernel)",
      "language": "python",
      "name": "python3"
    },
    "language_info": {
      "codemirror_mode": {
        "name": "ipython",
        "version": 3
      },
      "file_extension": ".py",
      "mimetype": "text/x-python",
      "name": "python",
      "nbconvert_exporter": "python",
      "pygments_lexer": "ipython3",
      "version": "3.8.12"
    }
  },
  "nbformat": 4,
  "nbformat_minor": 0
}